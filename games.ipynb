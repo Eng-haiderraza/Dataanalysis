{
 "cells": [
  {
   "cell_type": "code",
   "execution_count": 20,
   "metadata": {},
   "outputs": [],
   "source": [
    "import pandas as pd\n",
    "import matplotlib.pyplot as plt\n",
    "import seaborn as sns\n",
    "import numpy as np"
   ]
  },
  {
   "cell_type": "code",
   "execution_count": 21,
   "metadata": {},
   "outputs": [],
   "source": [
    "data = pd.read_csv(\"games.csv\")"
   ]
  },
  {
   "cell_type": "code",
   "execution_count": 22,
   "metadata": {},
   "outputs": [
    {
     "data": {
      "text/html": [
       "<div>\n",
       "<style scoped>\n",
       "    .dataframe tbody tr th:only-of-type {\n",
       "        vertical-align: middle;\n",
       "    }\n",
       "\n",
       "    .dataframe tbody tr th {\n",
       "        vertical-align: top;\n",
       "    }\n",
       "\n",
       "    .dataframe thead th {\n",
       "        text-align: right;\n",
       "    }\n",
       "</style>\n",
       "<table border=\"1\" class=\"dataframe\">\n",
       "  <thead>\n",
       "    <tr style=\"text-align: right;\">\n",
       "      <th></th>\n",
       "      <th>gameId</th>\n",
       "      <th>season</th>\n",
       "      <th>week</th>\n",
       "      <th>gameDate</th>\n",
       "      <th>gameTimeEastern</th>\n",
       "      <th>homeTeamAbbr</th>\n",
       "      <th>visitorTeamAbbr</th>\n",
       "    </tr>\n",
       "  </thead>\n",
       "  <tbody>\n",
       "    <tr>\n",
       "      <th>0</th>\n",
       "      <td>2021090900</td>\n",
       "      <td>2021</td>\n",
       "      <td>1</td>\n",
       "      <td>09/09/2021</td>\n",
       "      <td>20:20:00</td>\n",
       "      <td>TB</td>\n",
       "      <td>DAL</td>\n",
       "    </tr>\n",
       "    <tr>\n",
       "      <th>1</th>\n",
       "      <td>2021091200</td>\n",
       "      <td>2021</td>\n",
       "      <td>1</td>\n",
       "      <td>09/12/2021</td>\n",
       "      <td>13:00:00</td>\n",
       "      <td>ATL</td>\n",
       "      <td>PHI</td>\n",
       "    </tr>\n",
       "    <tr>\n",
       "      <th>2</th>\n",
       "      <td>2021091201</td>\n",
       "      <td>2021</td>\n",
       "      <td>1</td>\n",
       "      <td>09/12/2021</td>\n",
       "      <td>13:00:00</td>\n",
       "      <td>BUF</td>\n",
       "      <td>PIT</td>\n",
       "    </tr>\n",
       "    <tr>\n",
       "      <th>3</th>\n",
       "      <td>2021091202</td>\n",
       "      <td>2021</td>\n",
       "      <td>1</td>\n",
       "      <td>09/12/2021</td>\n",
       "      <td>13:00:00</td>\n",
       "      <td>CAR</td>\n",
       "      <td>NYJ</td>\n",
       "    </tr>\n",
       "    <tr>\n",
       "      <th>4</th>\n",
       "      <td>2021091203</td>\n",
       "      <td>2021</td>\n",
       "      <td>1</td>\n",
       "      <td>09/12/2021</td>\n",
       "      <td>13:00:00</td>\n",
       "      <td>CIN</td>\n",
       "      <td>MIN</td>\n",
       "    </tr>\n",
       "  </tbody>\n",
       "</table>\n",
       "</div>"
      ],
      "text/plain": [
       "       gameId  season  week    gameDate gameTimeEastern homeTeamAbbr  \\\n",
       "0  2021090900    2021     1  09/09/2021        20:20:00           TB   \n",
       "1  2021091200    2021     1  09/12/2021        13:00:00          ATL   \n",
       "2  2021091201    2021     1  09/12/2021        13:00:00          BUF   \n",
       "3  2021091202    2021     1  09/12/2021        13:00:00          CAR   \n",
       "4  2021091203    2021     1  09/12/2021        13:00:00          CIN   \n",
       "\n",
       "  visitorTeamAbbr  \n",
       "0             DAL  \n",
       "1             PHI  \n",
       "2             PIT  \n",
       "3             NYJ  \n",
       "4             MIN  "
      ]
     },
     "execution_count": 22,
     "metadata": {},
     "output_type": "execute_result"
    }
   ],
   "source": [
    "data.head()"
   ]
  },
  {
   "cell_type": "code",
   "execution_count": 23,
   "metadata": {},
   "outputs": [
    {
     "data": {
      "text/plain": [
       "gameId             0\n",
       "season             0\n",
       "week               0\n",
       "gameDate           0\n",
       "gameTimeEastern    0\n",
       "homeTeamAbbr       0\n",
       "visitorTeamAbbr    0\n",
       "dtype: int64"
      ]
     },
     "execution_count": 23,
     "metadata": {},
     "output_type": "execute_result"
    }
   ],
   "source": [
    "data.isnull().sum()"
   ]
  },
  {
   "cell_type": "code",
   "execution_count": 24,
   "metadata": {},
   "outputs": [
    {
     "data": {
      "text/plain": [
       "(122, 7)"
      ]
     },
     "execution_count": 24,
     "metadata": {},
     "output_type": "execute_result"
    }
   ],
   "source": [
    "data.shape"
   ]
  },
  {
   "cell_type": "code",
   "execution_count": 25,
   "metadata": {},
   "outputs": [
    {
     "data": {
      "text/plain": [
       "Index(['gameId', 'season', 'week', 'gameDate', 'gameTimeEastern',\n",
       "       'homeTeamAbbr', 'visitorTeamAbbr'],\n",
       "      dtype='object')"
      ]
     },
     "execution_count": 25,
     "metadata": {},
     "output_type": "execute_result"
    }
   ],
   "source": [
    "data.columns"
   ]
  },
  {
   "cell_type": "code",
   "execution_count": 26,
   "metadata": {},
   "outputs": [
    {
     "data": {
      "text/plain": [
       "array([2021], dtype=int64)"
      ]
     },
     "execution_count": 26,
     "metadata": {},
     "output_type": "execute_result"
    }
   ],
   "source": [
    "data['season'].unique()"
   ]
  },
  {
   "cell_type": "code",
   "execution_count": 27,
   "metadata": {},
   "outputs": [
    {
     "data": {
      "text/plain": [
       "CLE    5\n",
       "NE     5\n",
       "LV     4\n",
       "Name: homeTeamAbbr, dtype: int64"
      ]
     },
     "execution_count": 27,
     "metadata": {},
     "output_type": "execute_result"
    }
   ],
   "source": [
    "data['homeTeamAbbr'].value_counts()[0:3]"
   ]
  },
  {
   "cell_type": "code",
   "execution_count": 28,
   "metadata": {},
   "outputs": [
    {
     "data": {
      "text/plain": [
       "CIN    5\n",
       "GB     5\n",
       "PHI    5\n",
       "Name: visitorTeamAbbr, dtype: int64"
      ]
     },
     "execution_count": 28,
     "metadata": {},
     "output_type": "execute_result"
    }
   ],
   "source": [
    "data['visitorTeamAbbr'].value_counts()[0:3]"
   ]
  },
  {
   "cell_type": "code",
   "execution_count": 29,
   "metadata": {},
   "outputs": [
    {
     "data": {
      "text/plain": [
       "<pandas.core.groupby.generic.DataFrameGroupBy object at 0x00000164FBED91D0>"
      ]
     },
     "execution_count": 29,
     "metadata": {},
     "output_type": "execute_result"
    }
   ],
   "source": [
    "data1 = data.groupby('visitorTeamAbbr')\n",
    "data1"
   ]
  },
  {
   "cell_type": "code",
   "execution_count": 30,
   "metadata": {},
   "outputs": [],
   "source": [
    "labs1 = data['visitorTeamAbbr'].value_counts().keys()[0:5]\n"
   ]
  },
  {
   "cell_type": "code",
   "execution_count": 31,
   "metadata": {},
   "outputs": [],
   "source": [
    "labs2 = data['homeTeamAbbr'].value_counts().keys()[0:5]"
   ]
  },
  {
   "cell_type": "code",
   "execution_count": null,
   "metadata": {},
   "outputs": [],
   "source": [
    "\n"
   ]
  },
  {
   "cell_type": "code",
   "execution_count": 52,
   "metadata": {},
   "outputs": [
    {
     "data": {
      "image/png": "[encoded data removed]",
      "text/plain": [
       "<Figure size 432x288 with 1 Axes>"
      ]
     },
     "metadata": {},
     "output_type": "display_data"
    }
   ],
   "source": [
    "myexplode = [0.03, 0.03, 0.03,0.03,0.03]\n",
    "mycolors = [\"#3CAF65\", \"hotpink\", \"b\", \"#4CAF50\", \"green\"]\n",
    "\n",
    "\n",
    "plt.pie(data['homeTeamAbbr'].value_counts()[0:5], labels = labs2, autopct='%.0f%%', explode = myexplode, colors = mycolors)\n",
    "plt.title(\"homeTeamAbbr\",fontsize=14, fontweight = \"bold\")\n",
    "plt.legend(title = \"home team\", loc=\"lower left\")\n",
    "plt.show()\n"
   ]
  },
  {
   "cell_type": "code",
   "execution_count": 51,
   "metadata": {},
   "outputs": [
    {
     "data": {
      "text/plain": [
       "<BarContainer object of 5 artists>"
      ]
     },
     "execution_count": 51,
     "metadata": {},
     "output_type": "execute_result"
    },
    {
     "data": {
      "image/png": "[encoded data removed]",
      "text/plain": [
       "<Figure size 432x288 with 1 Axes>"
      ]
     },
     "metadata": {
      "needs_background": "light"
     },
     "output_type": "display_data"
    }
   ],
   "source": [
    "plt.figure(figsize=(6,4))\n",
    "mycolors = [\"#3CAF65\", \"hotpink\", \"b\", \"black\", \"green\"]\n",
    "plt.bar(list(data['homeTeamAbbr'].value_counts().keys()[0:5]),list(data['homeTeamAbbr'].value_counts()[0:5]),color = mycolors)"
   ]
  },
  {
   "cell_type": "code",
   "execution_count": 54,
   "metadata": {},
   "outputs": [
    {
     "data": {
      "text/plain": [
       "<BarContainer object of 5 artists>"
      ]
     },
     "execution_count": 54,
     "metadata": {},
     "output_type": "execute_result"
    },
    {
     "data": {
      "image/png": "[encoded data removed]",
      "text/plain": [
       "<Figure size 432x288 with 1 Axes>"
      ]
     },
     "metadata": {
      "needs_background": "light"
     },
     "output_type": "display_data"
    }
   ],
   "source": [
    "plt.figure(figsize=(6,4))\n",
    "mycolors = [\"#3CAF65\", \"hotpink\", \"b\", \"black\", \"green\"]\n",
    "plt.title(\"horizontal bar graph\")\n",
    "plt.barh(list(data['homeTeamAbbr'].value_counts().keys()[0:5]),list(data['homeTeamAbbr'].value_counts()[0:5]),color = mycolors)"
   ]
  },
  {
   "cell_type": "code",
   "execution_count": 34,
   "metadata": {},
   "outputs": [
    {
     "data": {
      "text/html": [
       "<div>\n",
       "<style scoped>\n",
       "    .dataframe tbody tr th:only-of-type {\n",
       "        vertical-align: middle;\n",
       "    }\n",
       "\n",
       "    .dataframe tbody tr th {\n",
       "        vertical-align: top;\n",
       "    }\n",
       "\n",
       "    .dataframe thead th {\n",
       "        text-align: right;\n",
       "    }\n",
       "</style>\n",
       "<table border=\"1\" class=\"dataframe\">\n",
       "  <thead>\n",
       "    <tr style=\"text-align: right;\">\n",
       "      <th></th>\n",
       "      <th>gameId</th>\n",
       "      <th>season</th>\n",
       "      <th>week</th>\n",
       "      <th>gameDate</th>\n",
       "      <th>gameTimeEastern</th>\n",
       "      <th>homeTeamAbbr</th>\n",
       "      <th>visitorTeamAbbr</th>\n",
       "    </tr>\n",
       "  </thead>\n",
       "  <tbody>\n",
       "    <tr>\n",
       "      <th>0</th>\n",
       "      <td>2021090900</td>\n",
       "      <td>2021</td>\n",
       "      <td>1</td>\n",
       "      <td>09/09/2021</td>\n",
       "      <td>20:20:00</td>\n",
       "      <td>TB</td>\n",
       "      <td>DAL</td>\n",
       "    </tr>\n",
       "    <tr>\n",
       "      <th>1</th>\n",
       "      <td>2021091200</td>\n",
       "      <td>2021</td>\n",
       "      <td>1</td>\n",
       "      <td>09/12/2021</td>\n",
       "      <td>13:00:00</td>\n",
       "      <td>ATL</td>\n",
       "      <td>PHI</td>\n",
       "    </tr>\n",
       "    <tr>\n",
       "      <th>2</th>\n",
       "      <td>2021091201</td>\n",
       "      <td>2021</td>\n",
       "      <td>1</td>\n",
       "      <td>09/12/2021</td>\n",
       "      <td>13:00:00</td>\n",
       "      <td>BUF</td>\n",
       "      <td>PIT</td>\n",
       "    </tr>\n",
       "    <tr>\n",
       "      <th>3</th>\n",
       "      <td>2021091202</td>\n",
       "      <td>2021</td>\n",
       "      <td>1</td>\n",
       "      <td>09/12/2021</td>\n",
       "      <td>13:00:00</td>\n",
       "      <td>CAR</td>\n",
       "      <td>NYJ</td>\n",
       "    </tr>\n",
       "    <tr>\n",
       "      <th>4</th>\n",
       "      <td>2021091203</td>\n",
       "      <td>2021</td>\n",
       "      <td>1</td>\n",
       "      <td>09/12/2021</td>\n",
       "      <td>13:00:00</td>\n",
       "      <td>CIN</td>\n",
       "      <td>MIN</td>\n",
       "    </tr>\n",
       "  </tbody>\n",
       "</table>\n",
       "</div>"
      ],
      "text/plain": [
       "       gameId  season  week    gameDate gameTimeEastern homeTeamAbbr  \\\n",
       "0  2021090900    2021     1  09/09/2021        20:20:00           TB   \n",
       "1  2021091200    2021     1  09/12/2021        13:00:00          ATL   \n",
       "2  2021091201    2021     1  09/12/2021        13:00:00          BUF   \n",
       "3  2021091202    2021     1  09/12/2021        13:00:00          CAR   \n",
       "4  2021091203    2021     1  09/12/2021        13:00:00          CIN   \n",
       "\n",
       "  visitorTeamAbbr  \n",
       "0             DAL  \n",
       "1             PHI  \n",
       "2             PIT  \n",
       "3             NYJ  \n",
       "4             MIN  "
      ]
     },
     "execution_count": 34,
     "metadata": {},
     "output_type": "execute_result"
    }
   ],
   "source": [
    "data.head()"
   ]
  },
  {
   "cell_type": "code",
   "execution_count": 36,
   "metadata": {},
   "outputs": [
    {
     "data": {
      "text/html": [
       "<div>\n",
       "<style scoped>\n",
       "    .dataframe tbody tr th:only-of-type {\n",
       "        vertical-align: middle;\n",
       "    }\n",
       "\n",
       "    .dataframe tbody tr th {\n",
       "        vertical-align: top;\n",
       "    }\n",
       "\n",
       "    .dataframe thead th {\n",
       "        text-align: right;\n",
       "    }\n",
       "</style>\n",
       "<table border=\"1\" class=\"dataframe\">\n",
       "  <thead>\n",
       "    <tr style=\"text-align: right;\">\n",
       "      <th></th>\n",
       "      <th>gameId</th>\n",
       "      <th>season</th>\n",
       "      <th>week</th>\n",
       "      <th>gameDate</th>\n",
       "      <th>gameTimeEastern</th>\n",
       "      <th>homeTeamAbbr</th>\n",
       "      <th>visitorTeamAbbr</th>\n",
       "    </tr>\n",
       "  </thead>\n",
       "  <tbody>\n",
       "    <tr>\n",
       "      <th>19</th>\n",
       "      <td>2021091902</td>\n",
       "      <td>2021</td>\n",
       "      <td>2</td>\n",
       "      <td>09/19/2021</td>\n",
       "      <td>13:00:00</td>\n",
       "      <td>CLE</td>\n",
       "      <td>HOU</td>\n",
       "    </tr>\n",
       "    <tr>\n",
       "      <th>34</th>\n",
       "      <td>2021092601</td>\n",
       "      <td>2021</td>\n",
       "      <td>3</td>\n",
       "      <td>09/26/2021</td>\n",
       "      <td>13:00:00</td>\n",
       "      <td>CLE</td>\n",
       "      <td>CHI</td>\n",
       "    </tr>\n",
       "    <tr>\n",
       "      <th>89</th>\n",
       "      <td>2021101708</td>\n",
       "      <td>2021</td>\n",
       "      <td>6</td>\n",
       "      <td>10/17/2021</td>\n",
       "      <td>16:05:00</td>\n",
       "      <td>CLE</td>\n",
       "      <td>ARI</td>\n",
       "    </tr>\n",
       "    <tr>\n",
       "      <th>94</th>\n",
       "      <td>2021102100</td>\n",
       "      <td>2021</td>\n",
       "      <td>7</td>\n",
       "      <td>10/21/2021</td>\n",
       "      <td>20:20:00</td>\n",
       "      <td>CLE</td>\n",
       "      <td>DEN</td>\n",
       "    </tr>\n",
       "    <tr>\n",
       "      <th>111</th>\n",
       "      <td>2021103103</td>\n",
       "      <td>2021</td>\n",
       "      <td>8</td>\n",
       "      <td>10/31/2021</td>\n",
       "      <td>13:00:00</td>\n",
       "      <td>CLE</td>\n",
       "      <td>PIT</td>\n",
       "    </tr>\n",
       "  </tbody>\n",
       "</table>\n",
       "</div>"
      ],
      "text/plain": [
       "         gameId  season  week    gameDate gameTimeEastern homeTeamAbbr  \\\n",
       "19   2021091902    2021     2  09/19/2021        13:00:00          CLE   \n",
       "34   2021092601    2021     3  09/26/2021        13:00:00          CLE   \n",
       "89   2021101708    2021     6  10/17/2021        16:05:00          CLE   \n",
       "94   2021102100    2021     7  10/21/2021        20:20:00          CLE   \n",
       "111  2021103103    2021     8  10/31/2021        13:00:00          CLE   \n",
       "\n",
       "    visitorTeamAbbr  \n",
       "19              HOU  \n",
       "34              CHI  \n",
       "89              ARI  \n",
       "94              DEN  \n",
       "111             PIT  "
      ]
     },
     "execution_count": 36,
     "metadata": {},
     "output_type": "execute_result"
    }
   ],
   "source": [
    "data.loc[((data.homeTeamAbbr == 'CLE') & (data.visitorTeamAbbr ))]"
   ]
  },
  {
   "cell_type": "code",
   "execution_count": 37,
   "metadata": {},
   "outputs": [
    {
     "data": {
      "text/html": [
       "<div>\n",
       "<style scoped>\n",
       "    .dataframe tbody tr th:only-of-type {\n",
       "        vertical-align: middle;\n",
       "    }\n",
       "\n",
       "    .dataframe tbody tr th {\n",
       "        vertical-align: top;\n",
       "    }\n",
       "\n",
       "    .dataframe thead th {\n",
       "        text-align: right;\n",
       "    }\n",
       "</style>\n",
       "<table border=\"1\" class=\"dataframe\">\n",
       "  <thead>\n",
       "    <tr style=\"text-align: right;\">\n",
       "      <th></th>\n",
       "      <th>gameId</th>\n",
       "      <th>season</th>\n",
       "      <th>week</th>\n",
       "      <th>gameDate</th>\n",
       "      <th>gameTimeEastern</th>\n",
       "      <th>homeTeamAbbr</th>\n",
       "      <th>visitorTeamAbbr</th>\n",
       "    </tr>\n",
       "  </thead>\n",
       "  <tbody>\n",
       "    <tr>\n",
       "      <th>19</th>\n",
       "      <td>2021091902</td>\n",
       "      <td>2021</td>\n",
       "      <td>2</td>\n",
       "      <td>09/19/2021</td>\n",
       "      <td>13:00:00</td>\n",
       "      <td>CLE</td>\n",
       "      <td>HOU</td>\n",
       "    </tr>\n",
       "    <tr>\n",
       "      <th>50</th>\n",
       "      <td>2021100301</td>\n",
       "      <td>2021</td>\n",
       "      <td>4</td>\n",
       "      <td>10/03/2021</td>\n",
       "      <td>13:00:00</td>\n",
       "      <td>BUF</td>\n",
       "      <td>HOU</td>\n",
       "    </tr>\n",
       "    <tr>\n",
       "      <th>86</th>\n",
       "      <td>2021101705</td>\n",
       "      <td>2021</td>\n",
       "      <td>6</td>\n",
       "      <td>10/17/2021</td>\n",
       "      <td>13:00:00</td>\n",
       "      <td>IND</td>\n",
       "      <td>HOU</td>\n",
       "    </tr>\n",
       "    <tr>\n",
       "      <th>103</th>\n",
       "      <td>2021102408</td>\n",
       "      <td>2021</td>\n",
       "      <td>7</td>\n",
       "      <td>10/24/2021</td>\n",
       "      <td>16:25:00</td>\n",
       "      <td>ARI</td>\n",
       "      <td>HOU</td>\n",
       "    </tr>\n",
       "  </tbody>\n",
       "</table>\n",
       "</div>"
      ],
      "text/plain": [
       "         gameId  season  week    gameDate gameTimeEastern homeTeamAbbr  \\\n",
       "19   2021091902    2021     2  09/19/2021        13:00:00          CLE   \n",
       "50   2021100301    2021     4  10/03/2021        13:00:00          BUF   \n",
       "86   2021101705    2021     6  10/17/2021        13:00:00          IND   \n",
       "103  2021102408    2021     7  10/24/2021        16:25:00          ARI   \n",
       "\n",
       "    visitorTeamAbbr  \n",
       "19              HOU  \n",
       "50              HOU  \n",
       "86              HOU  \n",
       "103             HOU  "
      ]
     },
     "execution_count": 37,
     "metadata": {},
     "output_type": "execute_result"
    }
   ],
   "source": [
    "data.loc[((data.visitorTeamAbbr == 'HOU') & (data.homeTeamAbbr ))]"
   ]
  },
  {
   "cell_type": "markdown",
   "metadata": {},
   "source": []
  }
 ],
 "metadata": {
  "kernelspec": {
   "display_name": "Python 3",
   "language": "python",
   "name": "python3"
  },
  "language_info": {
   "codemirror_mode": {
    "name": "ipython",
    "version": 3
   },
   "file_extension": ".py",
   "mimetype": "text/x-python",
   "name": "python",
   "nbconvert_exporter": "python",
   "pygments_lexer": "ipython3",
   "version": "3.7.3"
  }
 },
 "nbformat": 4,
 "nbformat_minor": 2
}
